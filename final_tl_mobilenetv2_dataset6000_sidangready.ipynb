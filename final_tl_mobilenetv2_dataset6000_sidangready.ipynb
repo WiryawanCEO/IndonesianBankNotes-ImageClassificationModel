{
  "nbformat": 4,
  "nbformat_minor": 0,
  "metadata": {
    "colab": {
      "name": "final_tl_mobilenetv2_dataset6000_sidangready.ipynb",
      "provenance": [],
      "collapsed_sections": [],
      "authorship_tag": "ABX9TyOlKrNw4wYyMxkotASfta2v",
      "include_colab_link": true
    },
    "kernelspec": {
      "name": "python3",
      "display_name": "Python 3"
    },
    "accelerator": "GPU"
  },
  "cells": [
    {
      "cell_type": "markdown",
      "metadata": {
        "id": "view-in-github",
        "colab_type": "text"
      },
      "source": [
        "<a href=\"https://colab.research.google.com/github/WiryawanCEO/IndonesianBankNotes-ImageClassificationModel/blob/main/final_tl_mobilenetv2_dataset6000_sidangready.ipynb\" target=\"_parent\"><img src=\"https://colab.research.google.com/assets/colab-badge.svg\" alt=\"Open In Colab\"/></a>"
      ]
    },
    {
      "cell_type": "markdown",
      "metadata": {
        "id": "5AfJ0aAmXNQi"
      },
      "source": [
        "Import library dan depedencies yang akan digunakan"
      ]
    },
    {
      "cell_type": "code",
      "metadata": {
        "id": "Ai4TMwb4WrVh"
      },
      "source": [
        "import tensorflow as tf\n",
        "import os\n",
        "import sys\n",
        "import matplotlib.pyplot as plt\n",
        "import numpy as np\n",
        "import itertools\n",
        "import math\n",
        "\n",
        "from google.colab import drive\n",
        "from pathlib import Path\n",
        "from sklearn.metrics import classification_report, confusion_matrix\n",
        "from tensorflow.keras.optimizers import Adam\n",
        "from tensorflow.keras.preprocessing.image import ImageDataGenerator"
      ],
      "execution_count": null,
      "outputs": []
    },
    {
      "cell_type": "markdown",
      "metadata": {
        "id": "vT7-nU2NXUTN"
      },
      "source": [
        "Buat koneksi dengan Google Drive"
      ]
    },
    {
      "cell_type": "code",
      "metadata": {
        "id": "wQK4YVAXXMOD",
        "colab": {
          "base_uri": "https://localhost:8080/",
          "height": 121
        },
        "outputId": "7843ffa7-c61c-4cd7-f9f9-08305fb13b2d"
      },
      "source": [
        "drive.mount('/content/drive')\n",
        "base = Path('/content/drive/My Drive/')\n",
        "sys.path.append(str(base))\n",
        "\n",
        "zip_path = base/'Dataset73.zip'\n",
        "!cp '{zip_path}' .\n",
        "\n",
        "!unzip -q Dataset73.zip\n",
        "!rm Dataset73.zip"
      ],
      "execution_count": null,
      "outputs": [
        {
          "output_type": "stream",
          "text": [
            "Go to this URL in a browser: https://accounts.google.com/o/oauth2/auth?client_id=947318989803-6bn6qk8qdgf4n4g3pfee6491hc0brc4i.apps.googleusercontent.com&redirect_uri=urn%3aietf%3awg%3aoauth%3a2.0%3aoob&response_type=code&scope=email%20https%3a%2f%2fwww.googleapis.com%2fauth%2fdocs.test%20https%3a%2f%2fwww.googleapis.com%2fauth%2fdrive%20https%3a%2f%2fwww.googleapis.com%2fauth%2fdrive.photos.readonly%20https%3a%2f%2fwww.googleapis.com%2fauth%2fpeopleapi.readonly\n",
            "\n",
            "Enter your authorization code:\n",
            "··········\n",
            "Mounted at /content/drive\n"
          ],
          "name": "stdout"
        }
      ]
    },
    {
      "cell_type": "markdown",
      "metadata": {
        "id": "jtuv8OOqX12h"
      },
      "source": [
        "Definisikan direktori dataset di Google Drive, serta setup datagenerator dataset training & validasi"
      ]
    },
    {
      "cell_type": "code",
      "metadata": {
        "id": "Kb0uI0scXj9D"
      },
      "source": [
        "train_dir = 'Dataset73/train'\n",
        "validation_dir = 'Dataset73/valid'\n",
        "\n",
        "train_datagen = ImageDataGenerator(rescale=1./255)\n",
        "val_datagen = ImageDataGenerator(rescale=1./255)"
      ],
      "execution_count": null,
      "outputs": []
    },
    {
      "cell_type": "markdown",
      "metadata": {
        "id": "qmkOWVqGYaoh"
      },
      "source": [
        "Masukan dataset kedalam generator berdasarkan batch, kemudian resize ke ukuran 224x224 dengan mode kelas berdasarkan kategorikal"
      ]
    },
    {
      "cell_type": "code",
      "metadata": {
        "id": "6dDiZuytYNiE",
        "colab": {
          "base_uri": "https://localhost:8080/",
          "height": 50
        },
        "outputId": "2a47376a-6988-4e63-c976-44b4e983974b"
      },
      "source": [
        "train_generator = train_datagen.flow_from_directory(\n",
        "        train_dir,\n",
        "        target_size=(224, 224),\n",
        "        batch_size=100,\n",
        "        class_mode='categorical')\n",
        "\n",
        "validation_generator = val_datagen.flow_from_directory(\n",
        "        validation_dir,\n",
        "        target_size=(224, 224),\n",
        "        batch_size=100,\n",
        "        shuffle=False,\n",
        "        class_mode='categorical')"
      ],
      "execution_count": null,
      "outputs": [
        {
          "output_type": "stream",
          "text": [
            "Found 4200 images belonging to 6 classes.\n",
            "Found 1800 images belonging to 6 classes.\n"
          ],
          "name": "stdout"
        }
      ]
    },
    {
      "cell_type": "markdown",
      "metadata": {
        "id": "mjw8QCGBa60H"
      },
      "source": [
        "Buat file labels.txt untuk referensi label kelas di implementasi nantinya sekaligus digunakan pada tahap evaluasi dengan confusion matrix dan classification report"
      ]
    },
    {
      "cell_type": "code",
      "metadata": {
        "id": "97WY4RaBaita",
        "colab": {
          "base_uri": "https://localhost:8080/",
          "height": 34
        },
        "outputId": "d2d65dca-eb05-40ca-b5d6-5f79aac7d25f"
      },
      "source": [
        "print (train_generator.class_indices)\n",
        "\n",
        "labels = '\\n'.join(sorted(train_generator.class_indices.keys()))\n",
        "\n",
        "with open('labels.txt', 'w') as f:\n",
        "  f.write(labels)"
      ],
      "execution_count": null,
      "outputs": [
        {
          "output_type": "stream",
          "text": [
            "{'100rb': 0, '10rb': 1, '20rb': 2, '2rb': 3, '50rb': 4, '5rb': 5}\n"
          ],
          "name": "stdout"
        }
      ]
    },
    {
      "cell_type": "markdown",
      "metadata": {
        "id": "MyFRAzeWZlJf"
      },
      "source": [
        "Import model pre-trained MobileNet V2 dari keras.applications(), tentukan input shapenya menjadi 224x224, instruksikan untuk tidak menggunakan lapisan akhir model, dan pilih wightsnya ImageNet"
      ]
    },
    {
      "cell_type": "code",
      "metadata": {
        "id": "6xYvELFhZF-k",
        "colab": {
          "base_uri": "https://localhost:8080/",
          "height": 50
        },
        "outputId": "5144ed45-8061-4e1a-ee13-53e03c1e4be8"
      },
      "source": [
        "IMG_SHAPE = (224, 224, 3)\n",
        "\n",
        "base_model = tf.keras.applications.MobileNetV2(input_shape=IMG_SHAPE,\n",
        "                                               include_top=False,\n",
        "                                               alpha=1.0,\n",
        "                                               weights='imagenet')"
      ],
      "execution_count": null,
      "outputs": [
        {
          "output_type": "stream",
          "text": [
            "Downloading data from https://storage.googleapis.com/tensorflow/keras-applications/mobilenet_v2/mobilenet_v2_weights_tf_dim_ordering_tf_kernels_1.0_224_no_top.h5\n",
            "9412608/9406464 [==============================] - 0s 0us/step\n"
          ],
          "name": "stdout"
        }
      ]
    },
    {
      "cell_type": "markdown",
      "metadata": {
        "id": "I2f5jOxaZnwI"
      },
      "source": [
        "Freeze lapisan-lapisan yang ada di model pre-trained MobileNet v2"
      ]
    },
    {
      "cell_type": "code",
      "metadata": {
        "id": "9pm2YEJ4ZPZu"
      },
      "source": [
        "base_model.trainable = False"
      ],
      "execution_count": null,
      "outputs": []
    },
    {
      "cell_type": "markdown",
      "metadata": {
        "id": "bitI-YTaZ_bY"
      },
      "source": [
        "Buat dan gabungkan lapisan fully connected yang dibuat dengan model pre-trained yang sudah di bekukan"
      ]
    },
    {
      "cell_type": "code",
      "metadata": {
        "id": "neBaDX5IZPGu",
        "colab": {
          "base_uri": "https://localhost:8080/",
          "height": 252
        },
        "outputId": "bdfedf64-fbec-4eb1-8c49-3439f724f917"
      },
      "source": [
        "model = tf.keras.models.Sequential()\n",
        "model.add(base_model)\n",
        "model.add(tf.keras.layers.Flatten())\n",
        "model.add(tf.keras.layers.Dense(6, activation='softmax'))\n",
        "\n",
        "model.summary()"
      ],
      "execution_count": null,
      "outputs": [
        {
          "output_type": "stream",
          "text": [
            "Model: \"sequential\"\n",
            "_________________________________________________________________\n",
            "Layer (type)                 Output Shape              Param #   \n",
            "=================================================================\n",
            "mobilenetv2_1.00_224 (Model) (None, 7, 7, 1280)        2257984   \n",
            "_________________________________________________________________\n",
            "flatten (Flatten)            (None, 62720)             0         \n",
            "_________________________________________________________________\n",
            "dense (Dense)                (None, 6)                 376326    \n",
            "=================================================================\n",
            "Total params: 2,634,310\n",
            "Trainable params: 376,326\n",
            "Non-trainable params: 2,257,984\n",
            "_________________________________________________________________\n"
          ],
          "name": "stdout"
        }
      ]
    },
    {
      "cell_type": "markdown",
      "metadata": {
        "id": "LwQgTgMIbUN8"
      },
      "source": [
        "Konfigurasi parameter pelatihan dan mulai proses training-nya"
      ]
    },
    {
      "cell_type": "code",
      "metadata": {
        "id": "m2jS5pP9aOje",
        "colab": {
          "base_uri": "https://localhost:8080/",
          "height": 689
        },
        "outputId": "b08221a5-b4ac-4586-afb0-8f84e04a977b"
      },
      "source": [
        "model.compile(loss='categorical_crossentropy',\n",
        "              optimizer=Adam(lr=0.0001),\n",
        "              metrics=['categorical_accuracy'])\n",
        "\n",
        "history = model.fit(\n",
        "      train_generator,\n",
        "      steps_per_epoch=42,  # 4200 images = batch_size * steps\n",
        "      epochs=20,\n",
        "      validation_data=validation_generator,\n",
        "      validation_steps=18,  # 1800 images = batch_size * steps\n",
        "      verbose=1)"
      ],
      "execution_count": null,
      "outputs": [
        {
          "output_type": "stream",
          "text": [
            "Epoch 1/20\n",
            "42/42 [==============================] - 64s 2s/step - loss: 1.3628 - categorical_accuracy: 0.5090 - val_loss: 0.7428 - val_categorical_accuracy: 0.7272\n",
            "Epoch 2/20\n",
            "42/42 [==============================] - 63s 2s/step - loss: 0.3456 - categorical_accuracy: 0.9038 - val_loss: 0.4543 - val_categorical_accuracy: 0.8478\n",
            "Epoch 3/20\n",
            "42/42 [==============================] - 63s 2s/step - loss: 0.1584 - categorical_accuracy: 0.9817 - val_loss: 0.3756 - val_categorical_accuracy: 0.8794\n",
            "Epoch 4/20\n",
            "42/42 [==============================] - 63s 2s/step - loss: 0.0899 - categorical_accuracy: 0.9969 - val_loss: 0.3245 - val_categorical_accuracy: 0.8989\n",
            "Epoch 5/20\n",
            "42/42 [==============================] - 63s 2s/step - loss: 0.0587 - categorical_accuracy: 0.9998 - val_loss: 0.2904 - val_categorical_accuracy: 0.9106\n",
            "Epoch 6/20\n",
            "42/42 [==============================] - 63s 1s/step - loss: 0.0435 - categorical_accuracy: 1.0000 - val_loss: 0.2707 - val_categorical_accuracy: 0.9150\n",
            "Epoch 7/20\n",
            "42/42 [==============================] - 63s 2s/step - loss: 0.0334 - categorical_accuracy: 1.0000 - val_loss: 0.2553 - val_categorical_accuracy: 0.9228\n",
            "Epoch 8/20\n",
            "42/42 [==============================] - 63s 1s/step - loss: 0.0269 - categorical_accuracy: 1.0000 - val_loss: 0.2429 - val_categorical_accuracy: 0.9233\n",
            "Epoch 9/20\n",
            "42/42 [==============================] - 63s 1s/step - loss: 0.0221 - categorical_accuracy: 1.0000 - val_loss: 0.2337 - val_categorical_accuracy: 0.9272\n",
            "Epoch 10/20\n",
            "42/42 [==============================] - 62s 1s/step - loss: 0.0188 - categorical_accuracy: 1.0000 - val_loss: 0.2286 - val_categorical_accuracy: 0.9267\n",
            "Epoch 11/20\n",
            "42/42 [==============================] - 62s 1s/step - loss: 0.0161 - categorical_accuracy: 1.0000 - val_loss: 0.2209 - val_categorical_accuracy: 0.9289\n",
            "Epoch 12/20\n",
            "42/42 [==============================] - 62s 1s/step - loss: 0.0140 - categorical_accuracy: 1.0000 - val_loss: 0.2140 - val_categorical_accuracy: 0.9328\n",
            "Epoch 13/20\n",
            "42/42 [==============================] - 62s 1s/step - loss: 0.0124 - categorical_accuracy: 1.0000 - val_loss: 0.2093 - val_categorical_accuracy: 0.9306\n",
            "Epoch 14/20\n",
            "42/42 [==============================] - 62s 1s/step - loss: 0.0109 - categorical_accuracy: 1.0000 - val_loss: 0.2034 - val_categorical_accuracy: 0.9356\n",
            "Epoch 15/20\n",
            "42/42 [==============================] - 63s 1s/step - loss: 0.0098 - categorical_accuracy: 1.0000 - val_loss: 0.2003 - val_categorical_accuracy: 0.9328\n",
            "Epoch 16/20\n",
            "42/42 [==============================] - 63s 1s/step - loss: 0.0089 - categorical_accuracy: 1.0000 - val_loss: 0.1957 - val_categorical_accuracy: 0.9350\n",
            "Epoch 17/20\n",
            "42/42 [==============================] - 62s 1s/step - loss: 0.0081 - categorical_accuracy: 1.0000 - val_loss: 0.1942 - val_categorical_accuracy: 0.9356\n",
            "Epoch 18/20\n",
            "42/42 [==============================] - 62s 1s/step - loss: 0.0074 - categorical_accuracy: 1.0000 - val_loss: 0.1905 - val_categorical_accuracy: 0.9367\n",
            "Epoch 19/20\n",
            "42/42 [==============================] - 62s 1s/step - loss: 0.0067 - categorical_accuracy: 1.0000 - val_loss: 0.1873 - val_categorical_accuracy: 0.9394\n",
            "Epoch 20/20\n",
            "42/42 [==============================] - 63s 1s/step - loss: 0.0062 - categorical_accuracy: 1.0000 - val_loss: 0.1860 - val_categorical_accuracy: 0.9361\n"
          ],
          "name": "stdout"
        }
      ]
    },
    {
      "cell_type": "markdown",
      "metadata": {
        "id": "XcGQcp_9cKjM"
      },
      "source": [
        "Evaluasi hasil pelatihan dengan grafik visualisasi proses training"
      ]
    },
    {
      "cell_type": "code",
      "metadata": {
        "id": "uWCl8K0Ib8cE",
        "colab": {
          "base_uri": "https://localhost:8080/",
          "height": 562
        },
        "outputId": "59a59192-6982-4a6a-ba19-126aa53b098f"
      },
      "source": [
        "# Retrieve a list of accuracy results on training and validation data\n",
        "# sets for each training epoch\n",
        "acc = history.history['categorical_accuracy']\n",
        "val_acc = history.history['val_categorical_accuracy']\n",
        "\n",
        "# Retrieve a list of list results on training and validation data\n",
        "# sets for each training epoch\n",
        "loss = history.history['loss']\n",
        "val_loss = history.history['val_loss']\n",
        "\n",
        "# Get number of epochs\n",
        "epochs = range(len(acc))\n",
        "\n",
        "# Plot training and validation accuracy per epoch\n",
        "plt.plot(epochs, acc, label = 'Training Accuracy')\n",
        "plt.plot(epochs, val_acc, label = 'Validation Accuracy')\n",
        "plt.legend(loc='lower right')\n",
        "plt.title('Training and validation accuracy')\n",
        "\n",
        "plt.figure()\n",
        "\n",
        "# Plot training and validation loss per epoch\n",
        "plt.plot(epochs, loss, label = 'Training Loss')\n",
        "plt.plot(epochs, val_loss, label = 'Validation Loss')\n",
        "plt.legend(loc='upper right')\n",
        "plt.title('Training and validation loss')"
      ],
      "execution_count": null,
      "outputs": [
        {
          "output_type": "execute_result",
          "data": {
            "text/plain": [
              "Text(0.5, 1.0, 'Training and validation loss')"
            ]
          },
          "metadata": {
            "tags": []
          },
          "execution_count": 10
        },
        {
          "output_type": "display_data",
          "data": {
            "image/png": "[encoded data removed]",
            "text/plain": [
              "<Figure size 432x288 with 1 Axes>"
            ]
          },
          "metadata": {
            "tags": [],
            "needs_background": "light"
          }
        },
        {
          "output_type": "display_data",
          "data": {
            "image/png": "[encoded data removed]",
            "text/plain": [
              "<Figure size 432x288 with 1 Axes>"
            ]
          },
          "metadata": {
            "tags": [],
            "needs_background": "light"
          }
        }
      ]
    },
    {
      "cell_type": "markdown",
      "metadata": {
        "id": "BP4Et9txb2eK"
      },
      "source": [
        "Evaluasi akurasi akhir model pada kumpulan dataset validasi"
      ]
    },
    {
      "cell_type": "code",
      "metadata": {
        "id": "FmpV05w8bi2P",
        "colab": {
          "base_uri": "https://localhost:8080/",
          "height": 50
        },
        "outputId": "e369b445-689b-449f-a37a-7c42aea8f919"
      },
      "source": [
        "validation_generator.reset()\n",
        "STEP_SIZE_VALID=validation_generator.n//validation_generator.batch_size\n",
        "model.evaluate(validation_generator, steps=STEP_SIZE_VALID)"
      ],
      "execution_count": null,
      "outputs": [
        {
          "output_type": "stream",
          "text": [
            "18/18 [==============================] - 18s 1s/step - loss: 0.1860 - categorical_accuracy: 0.9361\n"
          ],
          "name": "stdout"
        },
        {
          "output_type": "execute_result",
          "data": {
            "text/plain": [
              "[0.18595214188098907, 0.9361110925674438]"
            ]
          },
          "metadata": {
            "tags": []
          },
          "execution_count": 11
        }
      ]
    },
    {
      "cell_type": "markdown",
      "metadata": {
        "id": "iE4vdNqRedCu"
      },
      "source": [
        "Definisikan plotting confusion matrix terlebih dahulu"
      ]
    },
    {
      "cell_type": "code",
      "metadata": {
        "id": "DeAg7D2Bdh3N"
      },
      "source": [
        "def plot_confusion_matrix(cm, classes,\n",
        "                          normalize=False,\n",
        "                          title='Confusion matrix',\n",
        "                          cmap=plt.cm.Blues):\n",
        "    \"\"\"\n",
        "    This function prints and plots the confusion matrix.\n",
        "    Normalization can be applied by setting `normalize=True`.\n",
        "    \"\"\"\n",
        "    if normalize:\n",
        "        cm = cm.astype('float') / cm.sum(axis=1)[:, np.newaxis]\n",
        "        print(\"Normalized confusion matrix\")\n",
        "    else:\n",
        "        print('Confusion matrix, without normalization')\n",
        "\n",
        "    print(cm)\n",
        "\n",
        "    plt.imshow(cm, interpolation='nearest', cmap=cmap)\n",
        "    plt.title(title)\n",
        "    plt.colorbar()\n",
        "    tick_marks = np.arange(len(classes))\n",
        "    plt.xticks(tick_marks, classes, rotation=45)\n",
        "    plt.yticks(tick_marks, classes)\n",
        "\n",
        "    fmt = '.2f' if normalize else 'd'\n",
        "    thresh = cm.max() / 2.\n",
        "    for i, j in itertools.product(range(cm.shape[0]), range(cm.shape[1])):\n",
        "        plt.text(j, i, format(cm[i, j], fmt),\n",
        "                 horizontalalignment=\"center\",\n",
        "                 color=\"white\" if cm[i, j] > thresh else \"black\")\n",
        "\n",
        "    plt.ylabel('True label')\n",
        "    plt.xlabel('Predicted label')\n",
        "    plt.tight_layout()"
      ],
      "execution_count": null,
      "outputs": []
    },
    {
      "cell_type": "markdown",
      "metadata": {
        "id": "YAtTFzLKej3_"
      },
      "source": [
        "Evaluasi klasifikasi dengan menggunakan confusion matrix"
      ]
    },
    {
      "cell_type": "code",
      "metadata": {
        "id": "Npc8dSLJdqg5",
        "colab": {
          "base_uri": "https://localhost:8080/",
          "height": 812
        },
        "outputId": "a2a16446-a4f3-46a0-e2e8-7c8c31ed95c3"
      },
      "source": [
        "validation_generator.reset()\n",
        "Y_pred = model.predict(validation_generator, steps=STEP_SIZE_VALID)\n",
        "y_pred = np.argmax(Y_pred, axis=1)\n",
        "target_names = !cat labels.txt\n",
        "\n",
        "cm = confusion_matrix(validation_generator.classes, y_pred)\n",
        "\n",
        "# Compute confusion matrix\n",
        "cnf_matrix = cm\n",
        "np.set_printoptions(precision=2)\n",
        "\n",
        "# Plot non-normalized confusion matrix\n",
        "plt.figure()\n",
        "plot_confusion_matrix(cnf_matrix, classes=target_names, title='Confusion matrix, without normalization')\n",
        "\n",
        "# Plot normalized confusion matrix\n",
        "plt.figure()\n",
        "plot_confusion_matrix(cnf_matrix, classes=target_names, normalize=True, title='Normalized confusion matrix')\n",
        "\n",
        "plt.show()"
      ],
      "execution_count": null,
      "outputs": [
        {
          "output_type": "stream",
          "text": [
            "Confusion matrix, without normalization\n",
            "[[284   3   3   0   0  10]\n",
            " [  0 270   6   3  13   8]\n",
            " [  1   5 286   2   4   2]\n",
            " [  1   7   1 283   3   5]\n",
            " [  1   7   1   1 289   1]\n",
            " [  4  10   2  10   1 273]]\n",
            "Normalized confusion matrix\n",
            "[[0.95 0.01 0.01 0.   0.   0.03]\n",
            " [0.   0.9  0.02 0.01 0.04 0.03]\n",
            " [0.   0.02 0.95 0.01 0.01 0.01]\n",
            " [0.   0.02 0.   0.94 0.01 0.02]\n",
            " [0.   0.02 0.   0.   0.96 0.  ]\n",
            " [0.01 0.03 0.01 0.03 0.   0.91]]\n"
          ],
          "name": "stdout"
        },
        {
          "output_type": "display_data",
          "data": {
            "image/png": "[encoded data removed]",
            "text/plain": [
              "<Figure size 432x288 with 2 Axes>"
            ]
          },
          "metadata": {
            "tags": [],
            "needs_background": "light"
          }
        },
        {
          "output_type": "display_data",
          "data": {
            "image/png": "[encoded data removed]",
            "text/plain": [
              "<Figure size 432x288 with 2 Axes>"
            ]
          },
          "metadata": {
            "tags": [],
            "needs_background": "light"
          }
        }
      ]
    },
    {
      "cell_type": "markdown",
      "metadata": {
        "id": "v2Cr2Th6epsR"
      },
      "source": [
        "Evaluasi klasifikasi dengan laporan klasifikasi (classification report)"
      ]
    },
    {
      "cell_type": "code",
      "metadata": {
        "id": "I4lHYM-HdXBY",
        "colab": {
          "base_uri": "https://localhost:8080/",
          "height": 252
        },
        "outputId": "c174d31f-0b7c-4c76-c4bc-ff236c7ed1f4"
      },
      "source": [
        "print('Classification Report')\n",
        "target_names = !cat labels.txt\n",
        "print(classification_report(validation_generator.classes, y_pred, target_names=target_names))"
      ],
      "execution_count": null,
      "outputs": [
        {
          "output_type": "stream",
          "text": [
            "Classification Report\n",
            "              precision    recall  f1-score   support\n",
            "\n",
            "       100rb       0.98      0.95      0.96       300\n",
            "        10rb       0.89      0.90      0.90       300\n",
            "        20rb       0.96      0.95      0.95       300\n",
            "         2rb       0.95      0.94      0.94       300\n",
            "        50rb       0.93      0.96      0.95       300\n",
            "         5rb       0.91      0.91      0.91       300\n",
            "\n",
            "    accuracy                           0.94      1800\n",
            "   macro avg       0.94      0.94      0.94      1800\n",
            "weighted avg       0.94      0.94      0.94      1800\n",
            "\n"
          ],
          "name": "stdout"
        }
      ]
    },
    {
      "cell_type": "markdown",
      "metadata": {
        "id": "vMwHBsEye9hR"
      },
      "source": [
        "Simpan model dan konversikan kedalam format TensorFlow Lite"
      ]
    },
    {
      "cell_type": "code",
      "metadata": {
        "id": "XAhAVd_Me8nO",
        "colab": {
          "base_uri": "https://localhost:8080/",
          "height": 34
        },
        "outputId": "803c9ed7-248e-45d1-e786-8af4179973c8"
      },
      "source": [
        "converter = tf.lite.TFLiteConverter.from_keras_model(model)\n",
        "tflite_model = converter.convert()\n",
        "open (\"final_tl_mobilenetv2_dataset73_simpleLayer.tflite\" , \"wb\") .write(tflite_model)"
      ],
      "execution_count": null,
      "outputs": [
        {
          "output_type": "execute_result",
          "data": {
            "text/plain": [
              "10352724"
            ]
          },
          "metadata": {
            "tags": []
          },
          "execution_count": 15
        }
      ]
    }
  ]
}
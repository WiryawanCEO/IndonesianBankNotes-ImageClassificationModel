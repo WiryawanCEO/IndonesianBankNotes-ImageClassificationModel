{
  "nbformat": 4,
  "nbformat_minor": 0,
  "metadata": {
    "colab": {
      "name": "final_model_cnn_rena2019_dataset6000_sidangready.ipynb",
      "provenance": [],
      "collapsed_sections": [],
      "authorship_tag": "ABX9TyOOFBP05ZVGzwkdO88752PJ",
      "include_colab_link": true
    },
    "kernelspec": {
      "name": "python3",
      "display_name": "Python 3"
    },
    "accelerator": "GPU"
  },
  "cells": [
    {
      "cell_type": "markdown",
      "metadata": {
        "id": "view-in-github",
        "colab_type": "text"
      },
      "source": [
        "<a href=\"https://colab.research.google.com/github/WiryawanCEO/IndonesianBanknotes-ImageClassificationModel/blob/main/final_model_cnn_rena2019_dataset6000_sidangready.ipynb\" target=\"_parent\"><img src=\"https://colab.research.google.com/assets/colab-badge.svg\" alt=\"Open In Colab\"/></a>"
      ]
    },
    {
      "cell_type": "markdown",
      "metadata": {
        "id": "5AfJ0aAmXNQi"
      },
      "source": [
        "Import library dan depedencies yang akan digunakan"
      ]
    },
    {
      "cell_type": "code",
      "metadata": {
        "id": "Ai4TMwb4WrVh"
      },
      "source": [
        "import tensorflow as tf\n",
        "import os\n",
        "import sys\n",
        "import matplotlib.pyplot as plt\n",
        "import numpy as np\n",
        "import itertools\n",
        "import math\n",
        "\n",
        "from google.colab import drive\n",
        "from pathlib import Path\n",
        "from sklearn.metrics import classification_report, confusion_matrix\n",
        "from tensorflow.keras.optimizers import Adam\n",
        "from tensorflow.keras.preprocessing.image import ImageDataGenerator"
      ],
      "execution_count": null,
      "outputs": []
    },
    {
      "cell_type": "markdown",
      "metadata": {
        "id": "vT7-nU2NXUTN"
      },
      "source": [
        "Buat koneksi dengan Google Drive"
      ]
    },
    {
      "cell_type": "code",
      "metadata": {
        "id": "wQK4YVAXXMOD",
        "colab": {
          "base_uri": "https://localhost:8080/",
          "height": 121
        },
        "outputId": "c71cbdaa-6209-4254-a197-57be3eada5f6"
      },
      "source": [
        "drive.mount('/content/drive')\n",
        "base = Path('/content/drive/My Drive/')\n",
        "sys.path.append(str(base))\n",
        "\n",
        "zip_path = base/'Dataset73.zip'\n",
        "!cp '{zip_path}' .\n",
        "\n",
        "!unzip -q Dataset73.zip\n",
        "!rm Dataset73.zip"
      ],
      "execution_count": null,
      "outputs": [
        {
          "output_type": "stream",
          "text": [
            "Go to this URL in a browser: https://accounts.google.com/o/oauth2/auth?client_id=947318989803-6bn6qk8qdgf4n4g3pfee6491hc0brc4i.apps.googleusercontent.com&redirect_uri=urn%3aietf%3awg%3aoauth%3a2.0%3aoob&response_type=code&scope=email%20https%3a%2f%2fwww.googleapis.com%2fauth%2fdocs.test%20https%3a%2f%2fwww.googleapis.com%2fauth%2fdrive%20https%3a%2f%2fwww.googleapis.com%2fauth%2fdrive.photos.readonly%20https%3a%2f%2fwww.googleapis.com%2fauth%2fpeopleapi.readonly\n",
            "\n",
            "Enter your authorization code:\n",
            "··········\n",
            "Mounted at /content/drive\n"
          ],
          "name": "stdout"
        }
      ]
    },
    {
      "cell_type": "markdown",
      "metadata": {
        "id": "jtuv8OOqX12h"
      },
      "source": [
        "Definisikan direktori dataset di Google Drive, serta setup datagenerator dataset training & validasi"
      ]
    },
    {
      "cell_type": "code",
      "metadata": {
        "id": "Kb0uI0scXj9D"
      },
      "source": [
        "train_dir = 'Dataset73/train'\n",
        "validation_dir = 'Dataset73/valid'\n",
        "\n",
        "train_datagen = ImageDataGenerator(rescale=1./255)\n",
        "val_datagen = ImageDataGenerator(rescale=1./255)"
      ],
      "execution_count": null,
      "outputs": []
    },
    {
      "cell_type": "markdown",
      "metadata": {
        "id": "qmkOWVqGYaoh"
      },
      "source": [
        "Masukan dataset kedalam generator berdasarkan batch, kemudian resize ke ukuran 224x224 dengan mode kelas berdasarkan kategorikal"
      ]
    },
    {
      "cell_type": "code",
      "metadata": {
        "id": "6dDiZuytYNiE",
        "colab": {
          "base_uri": "https://localhost:8080/",
          "height": 50
        },
        "outputId": "d7c9d452-fe19-4853-f5d4-6f618c868350"
      },
      "source": [
        "train_generator = train_datagen.flow_from_directory(\n",
        "        train_dir,\n",
        "        target_size=(224, 224),\n",
        "        batch_size=100,\n",
        "        class_mode='categorical')\n",
        "\n",
        "validation_generator = val_datagen.flow_from_directory(\n",
        "        validation_dir,\n",
        "        target_size=(224, 224),\n",
        "        batch_size=100,\n",
        "        shuffle=False,\n",
        "        class_mode='categorical')"
      ],
      "execution_count": null,
      "outputs": [
        {
          "output_type": "stream",
          "text": [
            "Found 4200 images belonging to 6 classes.\n",
            "Found 1800 images belonging to 6 classes.\n"
          ],
          "name": "stdout"
        }
      ]
    },
    {
      "cell_type": "markdown",
      "metadata": {
        "id": "mjw8QCGBa60H"
      },
      "source": [
        "Buat file labels.txt untuk referensi label kelas di implementasi nantinya sekaligus digunakan pada tahap evaluasi dengan confusion matrix dan classification report"
      ]
    },
    {
      "cell_type": "code",
      "metadata": {
        "id": "97WY4RaBaita",
        "colab": {
          "base_uri": "https://localhost:8080/",
          "height": 34
        },
        "outputId": "5b388be3-616a-4193-970f-5ea01f52d79d"
      },
      "source": [
        "print (train_generator.class_indices)\n",
        "\n",
        "labels = '\\n'.join(sorted(train_generator.class_indices.keys()))\n",
        "\n",
        "with open('labels.txt', 'w') as f:\n",
        "  f.write(labels)"
      ],
      "execution_count": null,
      "outputs": [
        {
          "output_type": "stream",
          "text": [
            "{'100rb': 0, '10rb': 1, '20rb': 2, '2rb': 3, '50rb': 4, '5rb': 5}\n"
          ],
          "name": "stdout"
        }
      ]
    },
    {
      "cell_type": "markdown",
      "metadata": {
        "id": "bitI-YTaZ_bY"
      },
      "source": [
        "Konstruksikan model sesuai dengan referensi skripsi rena(2019) dengan perubahan pada ukuran input dan lapisan fully-connected akhirnya"
      ]
    },
    {
      "cell_type": "code",
      "metadata": {
        "id": "neBaDX5IZPGu",
        "colab": {
          "base_uri": "https://localhost:8080/",
          "height": 487
        },
        "outputId": "fcb591be-97d1-458e-98fa-a7a3f0f3496d"
      },
      "source": [
        "model = tf.keras.models.Sequential()\n",
        "model.add(tf.keras.layers.Conv2D(32, kernel_size=(3, 3), \n",
        "                      activation='relu',input_shape=(224,224,3)))\n",
        "model.add(tf.keras.layers.MaxPooling2D(pool_size=(2,2)))\n",
        "model.add(tf.keras.layers.Conv2D(32, (3, 3),activation='relu'))\n",
        "model.add(tf.keras.layers.MaxPooling2D(pool_size=(2,2)))\n",
        "model.add(tf.keras.layers.Dropout(0.5))\n",
        "model.add(tf.keras.layers.Flatten())\n",
        "model.add(tf.keras.layers.Dense(1024, activation='relu'))\n",
        "model.add(tf.keras.layers.Dense(512, activation='relu'))\n",
        "model.add(tf.keras.layers.Dropout(0.5))\n",
        "model.add(tf.keras.layers.Dense(6, activation='softmax'))\n",
        "\n",
        "model.summary()"
      ],
      "execution_count": null,
      "outputs": [
        {
          "output_type": "stream",
          "text": [
            "Model: \"sequential\"\n",
            "_________________________________________________________________\n",
            "Layer (type)                 Output Shape              Param #   \n",
            "=================================================================\n",
            "conv2d (Conv2D)              (None, 222, 222, 32)      896       \n",
            "_________________________________________________________________\n",
            "max_pooling2d (MaxPooling2D) (None, 111, 111, 32)      0         \n",
            "_________________________________________________________________\n",
            "conv2d_1 (Conv2D)            (None, 109, 109, 32)      9248      \n",
            "_________________________________________________________________\n",
            "max_pooling2d_1 (MaxPooling2 (None, 54, 54, 32)        0         \n",
            "_________________________________________________________________\n",
            "dropout (Dropout)            (None, 54, 54, 32)        0         \n",
            "_________________________________________________________________\n",
            "flatten (Flatten)            (None, 93312)             0         \n",
            "_________________________________________________________________\n",
            "dense (Dense)                (None, 1024)              95552512  \n",
            "_________________________________________________________________\n",
            "dense_1 (Dense)              (None, 512)               524800    \n",
            "_________________________________________________________________\n",
            "dropout_1 (Dropout)          (None, 512)               0         \n",
            "_________________________________________________________________\n",
            "dense_2 (Dense)              (None, 6)                 3078      \n",
            "=================================================================\n",
            "Total params: 96,090,534\n",
            "Trainable params: 96,090,534\n",
            "Non-trainable params: 0\n",
            "_________________________________________________________________\n"
          ],
          "name": "stdout"
        }
      ]
    },
    {
      "cell_type": "markdown",
      "metadata": {
        "id": "LwQgTgMIbUN8"
      },
      "source": [
        "Konfigurasi parameter pelatihan dan mulai proses training-nya"
      ]
    },
    {
      "cell_type": "code",
      "metadata": {
        "id": "m2jS5pP9aOje",
        "colab": {
          "base_uri": "https://localhost:8080/",
          "height": 689
        },
        "outputId": "77c1be0f-e58a-48ef-8735-fe11b0ba0644"
      },
      "source": [
        "model.compile(loss='categorical_crossentropy',\n",
        "              optimizer=Adam(lr=0.0001),\n",
        "              metrics=['categorical_accuracy'])\n",
        "\n",
        "history = model.fit(\n",
        "      train_generator,\n",
        "      steps_per_epoch=42,  # 4200 images = batch_size * steps\n",
        "      epochs=20,\n",
        "      validation_data=validation_generator,\n",
        "      validation_steps=18,  # 1800 images = batch_size * steps\n",
        "      verbose=1)"
      ],
      "execution_count": null,
      "outputs": [
        {
          "output_type": "stream",
          "text": [
            "Epoch 1/20\n",
            "42/42 [==============================] - 75s 2s/step - loss: 1.7626 - categorical_accuracy: 0.2464 - val_loss: 1.5120 - val_categorical_accuracy: 0.4550\n",
            "Epoch 2/20\n",
            "42/42 [==============================] - 76s 2s/step - loss: 1.2776 - categorical_accuracy: 0.5140 - val_loss: 1.0242 - val_categorical_accuracy: 0.6628\n",
            "Epoch 3/20\n",
            "42/42 [==============================] - 77s 2s/step - loss: 0.8952 - categorical_accuracy: 0.6798 - val_loss: 0.7095 - val_categorical_accuracy: 0.7778\n",
            "Epoch 4/20\n",
            "42/42 [==============================] - 75s 2s/step - loss: 0.6204 - categorical_accuracy: 0.7914 - val_loss: 0.5787 - val_categorical_accuracy: 0.8050\n",
            "Epoch 5/20\n",
            "42/42 [==============================] - 76s 2s/step - loss: 0.4932 - categorical_accuracy: 0.8336 - val_loss: 0.5123 - val_categorical_accuracy: 0.8256\n",
            "Epoch 6/20\n",
            "42/42 [==============================] - 75s 2s/step - loss: 0.4361 - categorical_accuracy: 0.8564 - val_loss: 0.4688 - val_categorical_accuracy: 0.8267\n",
            "Epoch 7/20\n",
            "42/42 [==============================] - 76s 2s/step - loss: 0.3716 - categorical_accuracy: 0.8776 - val_loss: 0.4287 - val_categorical_accuracy: 0.8511\n",
            "Epoch 8/20\n",
            "42/42 [==============================] - 76s 2s/step - loss: 0.3037 - categorical_accuracy: 0.9086 - val_loss: 0.3878 - val_categorical_accuracy: 0.8711\n",
            "Epoch 9/20\n",
            "42/42 [==============================] - 76s 2s/step - loss: 0.2680 - categorical_accuracy: 0.9143 - val_loss: 0.3835 - val_categorical_accuracy: 0.8572\n",
            "Epoch 10/20\n",
            "42/42 [==============================] - 76s 2s/step - loss: 0.2336 - categorical_accuracy: 0.9250 - val_loss: 0.3439 - val_categorical_accuracy: 0.8722\n",
            "Epoch 11/20\n",
            "42/42 [==============================] - 76s 2s/step - loss: 0.1677 - categorical_accuracy: 0.9555 - val_loss: 0.3180 - val_categorical_accuracy: 0.8889\n",
            "Epoch 12/20\n",
            "42/42 [==============================] - 75s 2s/step - loss: 0.1493 - categorical_accuracy: 0.9598 - val_loss: 0.3126 - val_categorical_accuracy: 0.8894\n",
            "Epoch 13/20\n",
            "42/42 [==============================] - 76s 2s/step - loss: 0.1305 - categorical_accuracy: 0.9674 - val_loss: 0.3047 - val_categorical_accuracy: 0.8933\n",
            "Epoch 14/20\n",
            "42/42 [==============================] - 75s 2s/step - loss: 0.1092 - categorical_accuracy: 0.9719 - val_loss: 0.3514 - val_categorical_accuracy: 0.8756\n",
            "Epoch 15/20\n",
            "42/42 [==============================] - 76s 2s/step - loss: 0.1073 - categorical_accuracy: 0.9731 - val_loss: 0.3241 - val_categorical_accuracy: 0.8856\n",
            "Epoch 16/20\n",
            "42/42 [==============================] - 76s 2s/step - loss: 0.0925 - categorical_accuracy: 0.9760 - val_loss: 0.2821 - val_categorical_accuracy: 0.9050\n",
            "Epoch 17/20\n",
            "42/42 [==============================] - 76s 2s/step - loss: 0.0666 - categorical_accuracy: 0.9883 - val_loss: 0.3038 - val_categorical_accuracy: 0.9017\n",
            "Epoch 18/20\n",
            "42/42 [==============================] - 76s 2s/step - loss: 0.0513 - categorical_accuracy: 0.9929 - val_loss: 0.3226 - val_categorical_accuracy: 0.8894\n",
            "Epoch 19/20\n",
            "42/42 [==============================] - 76s 2s/step - loss: 0.0539 - categorical_accuracy: 0.9888 - val_loss: 0.2682 - val_categorical_accuracy: 0.9083\n",
            "Epoch 20/20\n",
            "42/42 [==============================] - 76s 2s/step - loss: 0.0494 - categorical_accuracy: 0.9907 - val_loss: 0.3165 - val_categorical_accuracy: 0.8983\n"
          ],
          "name": "stdout"
        }
      ]
    },
    {
      "cell_type": "markdown",
      "metadata": {
        "id": "XcGQcp_9cKjM"
      },
      "source": [
        "Evaluasi hasil pelatihan dengan grafik visualisasi proses training"
      ]
    },
    {
      "cell_type": "code",
      "metadata": {
        "id": "uWCl8K0Ib8cE",
        "colab": {
          "base_uri": "https://localhost:8080/",
          "height": 562
        },
        "outputId": "58da352d-8811-486f-bf67-64e96cb346d6"
      },
      "source": [
        "# Retrieve a list of accuracy results on training and validation data\n",
        "# sets for each training epoch\n",
        "acc = history.history['categorical_accuracy']\n",
        "val_acc = history.history['val_categorical_accuracy']\n",
        "\n",
        "# Retrieve a list of list results on training and validation data\n",
        "# sets for each training epoch\n",
        "loss = history.history['loss']\n",
        "val_loss = history.history['val_loss']\n",
        "\n",
        "# Get number of epochs\n",
        "epochs = range(len(acc))\n",
        "\n",
        "# Plot training and validation accuracy per epoch\n",
        "plt.plot(epochs, acc, label = 'Training Accuracy')\n",
        "plt.plot(epochs, val_acc, label = 'Validation Accuracy')\n",
        "plt.legend(loc='lower right')\n",
        "plt.title('Training and validation accuracy')\n",
        "\n",
        "plt.figure()\n",
        "\n",
        "# Plot training and validation loss per epoch\n",
        "plt.plot(epochs, loss, label = 'Training Loss')\n",
        "plt.plot(epochs, val_loss, label = 'Validation Loss')\n",
        "plt.legend(loc='upper right')\n",
        "plt.title('Training and validation loss')"
      ],
      "execution_count": null,
      "outputs": [
        {
          "output_type": "execute_result",
          "data": {
            "text/plain": [
              "Text(0.5, 1.0, 'Training and validation loss')"
            ]
          },
          "metadata": {
            "tags": []
          },
          "execution_count": 8
        },
        {
          "output_type": "display_data",
          "data": {
            "image/png": "[encoded data removed]",
            "text/plain": [
              "<Figure size 432x288 with 1 Axes>"
            ]
          },
          "metadata": {
            "tags": [],
            "needs_background": "light"
          }
        },
        {
          "output_type": "display_data",
          "data": {
            "image/png": "[encoded data removed]",
            "text/plain": [
              "<Figure size 432x288 with 1 Axes>"
            ]
          },
          "metadata": {
            "tags": [],
            "needs_background": "light"
          }
        }
      ]
    },
    {
      "cell_type": "markdown",
      "metadata": {
        "id": "BP4Et9txb2eK"
      },
      "source": [
        "Evaluasi akurasi akhir model pada kumpulan dataset validasi"
      ]
    },
    {
      "cell_type": "code",
      "metadata": {
        "id": "FmpV05w8bi2P",
        "colab": {
          "base_uri": "https://localhost:8080/",
          "height": 50
        },
        "outputId": "a1b7ec30-2479-41fe-aa6e-b2b7634c323a"
      },
      "source": [
        "validation_generator.reset()\n",
        "STEP_SIZE_VALID=validation_generator.n//validation_generator.batch_size\n",
        "model.evaluate(validation_generator, steps=STEP_SIZE_VALID)"
      ],
      "execution_count": null,
      "outputs": [
        {
          "output_type": "stream",
          "text": [
            "18/18 [==============================] - 21s 1s/step - loss: 0.3165 - categorical_accuracy: 0.8983\n"
          ],
          "name": "stdout"
        },
        {
          "output_type": "execute_result",
          "data": {
            "text/plain": [
              "[0.31647342443466187, 0.8983333110809326]"
            ]
          },
          "metadata": {
            "tags": []
          },
          "execution_count": 9
        }
      ]
    },
    {
      "cell_type": "markdown",
      "metadata": {
        "id": "iE4vdNqRedCu"
      },
      "source": [
        "Definisikan plotting confusion matrix terlebih dahulu"
      ]
    },
    {
      "cell_type": "code",
      "metadata": {
        "id": "DeAg7D2Bdh3N"
      },
      "source": [
        "def plot_confusion_matrix(cm, classes,\n",
        "                          normalize=False,\n",
        "                          title='Confusion matrix',\n",
        "                          cmap=plt.cm.Blues):\n",
        "        \"\"\"\n",
        "        This function prints and plots the confusion matrix.\n",
        "        Normalization can be applied by setting `normalize=True`.\n",
        "        \"\"\"\n",
        "        if normalize:\n",
        "            cm = cm.astype('float') / cm.sum(axis=1)[:, np.newaxis]\n",
        "            title='Normalized confusion matrix'\n",
        "        else:\n",
        "            title='Confusion matrix'\n",
        "\n",
        "        # Calculate chart area size\n",
        "        leftmargin = 0.5 # inches\n",
        "        rightmargin = 0.5 # inches\n",
        "        categorysize = 0.5 # inches\n",
        "        figwidth = leftmargin + rightmargin + (len(classes) * categorysize)           \n",
        "\n",
        "        f = plt.figure(figsize=(figwidth, figwidth))\n",
        "\n",
        "        # Create an axes instance and ajust the subplot size\n",
        "        ax = f.add_subplot(111)\n",
        "        ax.set_aspect(1)\n",
        "        f.subplots_adjust(left=leftmargin/figwidth, right=1-rightmargin/figwidth, top=0.94, bottom=0.1)\n",
        "\n",
        "        res = ax.imshow(cm, interpolation='nearest', cmap=cmap)\n",
        "\n",
        "        plt.title(title)\n",
        "        plt.colorbar(res)\n",
        "        ax.set_xticks(range(len(classes)))\n",
        "        ax.set_yticks(range(len(classes)))\n",
        "        ax.set_xticklabels(classes, rotation=45, ha='right')\n",
        "        ax.set_yticklabels(classes)\n",
        "\n",
        "        fmt = '.2f' if normalize else 'd'\n",
        "        thresh = cm.max() / 2.\n",
        "        for i, j in itertools.product(range(cm.shape[0]), range(cm.shape[1])):\n",
        "            ax.text(j, i, format(cm[i, j], fmt),\n",
        "                    horizontalalignment=\"center\",\n",
        "                    color=\"white\" if cm[i, j] > thresh else \"black\")\n",
        "\n",
        "        # plt.tight_layout()\n",
        "        plt.ylabel('True label')\n",
        "        plt.xlabel('Predicted label')"
      ],
      "execution_count": null,
      "outputs": []
    },
    {
      "cell_type": "markdown",
      "metadata": {
        "id": "YAtTFzLKej3_"
      },
      "source": [
        "Evaluasi klasifikasi dengan menggunakan confusion matrix"
      ]
    },
    {
      "cell_type": "code",
      "metadata": {
        "id": "Npc8dSLJdqg5",
        "colab": {
          "base_uri": "https://localhost:8080/",
          "height": 590
        },
        "outputId": "4b4715de-cac3-4d55-df83-bbbf01dbe150"
      },
      "source": [
        "validation_generator.reset()\n",
        "Y_pred = model.predict(validation_generator, steps=STEP_SIZE_VALID)\n",
        "y_pred = np.argmax(Y_pred, axis=1)\n",
        "target_names = !cat labels.txt\n",
        "\n",
        "cm = confusion_matrix(validation_generator.classes, y_pred)\n",
        "\n",
        "# Compute confusion matrix\n",
        "cnf_matrix = cm\n",
        "np.set_printoptions(precision=2)\n",
        "\n",
        "# Plot non-normalized confusion matrix\n",
        "plt.figure()\n",
        "plot_confusion_matrix(cnf_matrix, classes=target_names, title='Confusion matrix, without normalization')\n",
        "\n",
        "# Plot normalized confusion matrix\n",
        "plt.figure()\n",
        "plot_confusion_matrix(cnf_matrix, classes=target_names, normalize=True, title='Normalized confusion matrix')\n",
        "\n",
        "plt.show()"
      ],
      "execution_count": null,
      "outputs": [
        {
          "output_type": "display_data",
          "data": {
            "text/plain": [
              "<Figure size 432x288 with 0 Axes>"
            ]
          },
          "metadata": {
            "tags": []
          }
        },
        {
          "output_type": "display_data",
          "data": {
            "image/png": "[encoded data removed]",
            "text/plain": [
              "<Figure size 288x288 with 2 Axes>"
            ]
          },
          "metadata": {
            "tags": [],
            "needs_background": "light"
          }
        },
        {
          "output_type": "display_data",
          "data": {
            "text/plain": [
              "<Figure size 432x288 with 0 Axes>"
            ]
          },
          "metadata": {
            "tags": []
          }
        },
        {
          "output_type": "display_data",
          "data": {
            "image/png": "[encoded data removed]",
            "text/plain": [
              "<Figure size 288x288 with 2 Axes>"
            ]
          },
          "metadata": {
            "tags": [],
            "needs_background": "light"
          }
        }
      ]
    },
    {
      "cell_type": "markdown",
      "metadata": {
        "id": "v2Cr2Th6epsR"
      },
      "source": [
        "Evaluasi klasifikasi dengan laporan klasifikasi (classification report)"
      ]
    },
    {
      "cell_type": "code",
      "metadata": {
        "id": "I4lHYM-HdXBY",
        "colab": {
          "base_uri": "https://localhost:8080/",
          "height": 252
        },
        "outputId": "52475d82-4562-4c41-c483-ab8926f1ebfc"
      },
      "source": [
        "print('Classification Report')\n",
        "target_names = !cat labels.txt\n",
        "print(classification_report(validation_generator.classes, y_pred, target_names=target_names))"
      ],
      "execution_count": null,
      "outputs": [
        {
          "output_type": "stream",
          "text": [
            "Classification Report\n",
            "              precision    recall  f1-score   support\n",
            "\n",
            "       100rb       0.92      0.90      0.91       300\n",
            "        10rb       0.92      0.91      0.91       300\n",
            "        20rb       0.84      0.99      0.91       300\n",
            "         2rb       0.84      0.81      0.82       300\n",
            "        50rb       0.93      0.92      0.92       300\n",
            "         5rb       0.96      0.87      0.91       300\n",
            "\n",
            "    accuracy                           0.90      1800\n",
            "   macro avg       0.90      0.90      0.90      1800\n",
            "weighted avg       0.90      0.90      0.90      1800\n",
            "\n"
          ],
          "name": "stdout"
        }
      ]
    },
    {
      "cell_type": "markdown",
      "metadata": {
        "id": "vMwHBsEye9hR"
      },
      "source": [
        "Simpan model dan konversikan kedalam format TensorFlow Lite"
      ]
    },
    {
      "cell_type": "code",
      "metadata": {
        "id": "XAhAVd_Me8nO",
        "colab": {
          "base_uri": "https://localhost:8080/",
          "height": 34
        },
        "outputId": "c241fe1c-a7e8-46dd-9889-bf3b7390c0a8"
      },
      "source": [
        "converter = tf.lite.TFLiteConverter.from_keras_model(model)\n",
        "tflite_model = converter.convert()\n",
        "open (\"cnn_rena2019_dataset6000.tflite\" , \"wb\") .write(tflite_model)"
      ],
      "execution_count": null,
      "outputs": [
        {
          "output_type": "execute_result",
          "data": {
            "text/plain": [
              "384364796"
            ]
          },
          "metadata": {
            "tags": []
          },
          "execution_count": 13
        }
      ]
    },
    {
      "cell_type": "code",
      "metadata": {
        "id": "gwFrUivFT_Uk"
      },
      "source": [
        "model.save(\"cnn_rena2019_dataset6000.h5\")"
      ],
      "execution_count": null,
      "outputs": []
    }
  ]
}
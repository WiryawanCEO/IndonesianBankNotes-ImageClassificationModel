{
  "nbformat": 4,
  "nbformat_minor": 0,
  "metadata": {
    "colab": {
      "name": "final_model_tl_vgg16_dataset6000_sidangready.ipynb",
      "provenance": [],
      "collapsed_sections": [],
      "authorship_tag": "ABX9TyMApw2pVOFL5Oi9m2axrkW9",
      "include_colab_link": true
    },
    "kernelspec": {
      "name": "python3",
      "display_name": "Python 3"
    },
    "accelerator": "GPU"
  },
  "cells": [
    {
      "cell_type": "markdown",
      "metadata": {
        "id": "view-in-github",
        "colab_type": "text"
      },
      "source": [
        "<a href=\"https://colab.research.google.com/github/WiryawanCEO/IndonesianBanknotes-ImageClassificationModel/blob/main/final_model_tl_vgg16_dataset6000_sidangready.ipynb\" target=\"_parent\"><img src=\"https://colab.research.google.com/assets/colab-badge.svg\" alt=\"Open In Colab\"/></a>"
      ]
    },
    {
      "cell_type": "markdown",
      "metadata": {
        "id": "5AfJ0aAmXNQi"
      },
      "source": [
        "Import library dan depedencies yang akan digunakan"
      ]
    },
    {
      "cell_type": "code",
      "metadata": {
        "id": "Ai4TMwb4WrVh"
      },
      "source": [
        "import tensorflow as tf\n",
        "import os\n",
        "import sys\n",
        "import matplotlib.pyplot as plt\n",
        "import numpy as np\n",
        "import itertools\n",
        "import math\n",
        "\n",
        "from google.colab import drive\n",
        "from pathlib import Path\n",
        "from sklearn.metrics import classification_report, confusion_matrix\n",
        "from tensorflow.keras.optimizers import Adam\n",
        "from tensorflow.keras.preprocessing.image import ImageDataGenerator"
      ],
      "execution_count": null,
      "outputs": []
    },
    {
      "cell_type": "markdown",
      "metadata": {
        "id": "vT7-nU2NXUTN"
      },
      "source": [
        "Buat koneksi dengan Google Drive"
      ]
    },
    {
      "cell_type": "code",
      "metadata": {
        "id": "wQK4YVAXXMOD",
        "colab": {
          "base_uri": "https://localhost:8080/",
          "height": 121
        },
        "outputId": "35ed4b3f-b304-485a-c7c8-c44862ad1b76"
      },
      "source": [
        "drive.mount('/content/drive')\n",
        "base = Path('/content/drive/My Drive/')\n",
        "sys.path.append(str(base))\n",
        "\n",
        "zip_path = base/'Dataset73.zip'\n",
        "!cp '{zip_path}' .\n",
        "\n",
        "!unzip -q Dataset73.zip\n",
        "!rm Dataset73.zip"
      ],
      "execution_count": null,
      "outputs": [
        {
          "output_type": "stream",
          "text": [
            "Go to this URL in a browser: https://accounts.google.com/o/oauth2/auth?client_id=947318989803-6bn6qk8qdgf4n4g3pfee6491hc0brc4i.apps.googleusercontent.com&redirect_uri=urn%3aietf%3awg%3aoauth%3a2.0%3aoob&response_type=code&scope=email%20https%3a%2f%2fwww.googleapis.com%2fauth%2fdocs.test%20https%3a%2f%2fwww.googleapis.com%2fauth%2fdrive%20https%3a%2f%2fwww.googleapis.com%2fauth%2fdrive.photos.readonly%20https%3a%2f%2fwww.googleapis.com%2fauth%2fpeopleapi.readonly\n",
            "\n",
            "Enter your authorization code:\n",
            "··········\n",
            "Mounted at /content/drive\n"
          ],
          "name": "stdout"
        }
      ]
    },
    {
      "cell_type": "markdown",
      "metadata": {
        "id": "jtuv8OOqX12h"
      },
      "source": [
        "Definisikan direktori dataset di Google Drive, serta setup datagenerator dataset training & validasi"
      ]
    },
    {
      "cell_type": "code",
      "metadata": {
        "id": "Kb0uI0scXj9D"
      },
      "source": [
        "train_dir = 'Dataset73/train'\n",
        "validation_dir = 'Dataset73/valid'\n",
        "\n",
        "train_datagen = ImageDataGenerator(rescale=1./255)\n",
        "val_datagen = ImageDataGenerator(rescale=1./255)"
      ],
      "execution_count": null,
      "outputs": []
    },
    {
      "cell_type": "markdown",
      "metadata": {
        "id": "qmkOWVqGYaoh"
      },
      "source": [
        "Masukan dataset kedalam generator berdasarkan batch, kemudian resize ke ukuran 224x224 dengan mode kelas berdasarkan kategorikal"
      ]
    },
    {
      "cell_type": "code",
      "metadata": {
        "id": "6dDiZuytYNiE",
        "colab": {
          "base_uri": "https://localhost:8080/",
          "height": 50
        },
        "outputId": "55a33cac-5276-475e-fb3f-6984fb83e696"
      },
      "source": [
        "train_generator = train_datagen.flow_from_directory(\n",
        "        train_dir,\n",
        "        target_size=(224, 224),\n",
        "        batch_size=100,\n",
        "        class_mode='categorical')\n",
        "\n",
        "validation_generator = val_datagen.flow_from_directory(\n",
        "        validation_dir,\n",
        "        target_size=(224, 224),\n",
        "        batch_size=100,\n",
        "        shuffle=False,\n",
        "        class_mode='categorical')"
      ],
      "execution_count": null,
      "outputs": [
        {
          "output_type": "stream",
          "text": [
            "Found 4200 images belonging to 6 classes.\n",
            "Found 1800 images belonging to 6 classes.\n"
          ],
          "name": "stdout"
        }
      ]
    },
    {
      "cell_type": "markdown",
      "metadata": {
        "id": "mjw8QCGBa60H"
      },
      "source": [
        "Buat file labels.txt untuk referensi label kelas di implementasi nantinya sekaligus digunakan pada tahap evaluasi dengan confusion matrix dan classification report"
      ]
    },
    {
      "cell_type": "code",
      "metadata": {
        "id": "97WY4RaBaita",
        "colab": {
          "base_uri": "https://localhost:8080/",
          "height": 34
        },
        "outputId": "d6ac55bd-d1db-4bea-ba92-3423e0588277"
      },
      "source": [
        "print (train_generator.class_indices)\n",
        "\n",
        "labels = '\\n'.join(sorted(train_generator.class_indices.keys()))\n",
        "\n",
        "with open('labels.txt', 'w') as f:\n",
        "  f.write(labels)"
      ],
      "execution_count": null,
      "outputs": [
        {
          "output_type": "stream",
          "text": [
            "{'100rb': 0, '10rb': 1, '20rb': 2, '2rb': 3, '50rb': 4, '5rb': 5}\n"
          ],
          "name": "stdout"
        }
      ]
    },
    {
      "cell_type": "markdown",
      "metadata": {
        "id": "MyFRAzeWZlJf"
      },
      "source": [
        "Import model pre-trained VGG16 dari keras.applications(), tentukan input shapenya menjadi 224x224, instruksikan untuk tidak menggunakan lapisan akhir model, dan pilih wightsnya ImageNet"
      ]
    },
    {
      "cell_type": "code",
      "metadata": {
        "id": "6xYvELFhZF-k",
        "colab": {
          "base_uri": "https://localhost:8080/",
          "height": 50
        },
        "outputId": "13eb7e5d-7af6-423c-d983-65d696b8a385"
      },
      "source": [
        "IMG_SHAPE = (224, 224, 3)\n",
        "\n",
        "base_model = tf.keras.applications.VGG16(input_shape=IMG_SHAPE,\n",
        "                                               include_top=False,\n",
        "                                               weights='imagenet')"
      ],
      "execution_count": null,
      "outputs": [
        {
          "output_type": "stream",
          "text": [
            "Downloading data from https://storage.googleapis.com/tensorflow/keras-applications/vgg16/vgg16_weights_tf_dim_ordering_tf_kernels_notop.h5\n",
            "58892288/58889256 [==============================] - 0s 0us/step\n"
          ],
          "name": "stdout"
        }
      ]
    },
    {
      "cell_type": "markdown",
      "metadata": {
        "id": "I2f5jOxaZnwI"
      },
      "source": [
        "Freeze lapisan-lapisan yang ada di model pre-trained VGG16"
      ]
    },
    {
      "cell_type": "code",
      "metadata": {
        "id": "9pm2YEJ4ZPZu"
      },
      "source": [
        "base_model.trainable = False"
      ],
      "execution_count": null,
      "outputs": []
    },
    {
      "cell_type": "markdown",
      "metadata": {
        "id": "bitI-YTaZ_bY"
      },
      "source": [
        "Buat dan gabungkan lapisan fully connected yang dibuat dengan model pre-trained yang sudah di bekukan"
      ]
    },
    {
      "cell_type": "code",
      "metadata": {
        "id": "neBaDX5IZPGu",
        "colab": {
          "base_uri": "https://localhost:8080/",
          "height": 252
        },
        "outputId": "b0adc264-4d8b-41e2-b6ee-42f3070b6373"
      },
      "source": [
        "model_fine = tf.keras.models.Sequential()\n",
        "model_fine.add(base_model)\n",
        "model_fine.add(tf.keras.layers.Flatten())\n",
        "model_fine.add(tf.keras.layers.Dense(6, activation='softmax'))\n",
        "\n",
        "model_fine.summary()"
      ],
      "execution_count": null,
      "outputs": [
        {
          "output_type": "stream",
          "text": [
            "Model: \"sequential\"\n",
            "_________________________________________________________________\n",
            "Layer (type)                 Output Shape              Param #   \n",
            "=================================================================\n",
            "vgg16 (Model)                (None, 7, 7, 512)         14714688  \n",
            "_________________________________________________________________\n",
            "flatten (Flatten)            (None, 25088)             0         \n",
            "_________________________________________________________________\n",
            "dense (Dense)                (None, 6)                 150534    \n",
            "=================================================================\n",
            "Total params: 14,865,222\n",
            "Trainable params: 150,534\n",
            "Non-trainable params: 14,714,688\n",
            "_________________________________________________________________\n"
          ],
          "name": "stdout"
        }
      ]
    },
    {
      "cell_type": "markdown",
      "metadata": {
        "id": "LwQgTgMIbUN8"
      },
      "source": [
        "Konfigurasi parameter pelatihan dan mulai proses training-nya"
      ]
    },
    {
      "cell_type": "code",
      "metadata": {
        "id": "m2jS5pP9aOje",
        "colab": {
          "base_uri": "https://localhost:8080/",
          "height": 689
        },
        "outputId": "3c6f5190-babe-4bfc-b8ae-84220acf4eae"
      },
      "source": [
        "model_fine.compile(loss='categorical_crossentropy',\n",
        "              optimizer=Adam(lr=0.0001),\n",
        "              metrics=['categorical_accuracy'])\n",
        "\n",
        "history = model_fine.fit(\n",
        "      train_generator,\n",
        "      steps_per_epoch=42,  # 4200 images = batch_size * steps\n",
        "      epochs=20,\n",
        "      validation_data=validation_generator,\n",
        "      validation_steps=18,  # 1800 images = batch_size * steps\n",
        "      verbose=1)"
      ],
      "execution_count": null,
      "outputs": [
        {
          "output_type": "stream",
          "text": [
            "Epoch 1/20\n",
            "42/42 [==============================] - 65s 2s/step - loss: 1.7102 - categorical_accuracy: 0.2840 - val_loss: 1.5567 - val_categorical_accuracy: 0.4411\n",
            "Epoch 2/20\n",
            "42/42 [==============================] - 65s 2s/step - loss: 1.4305 - categorical_accuracy: 0.5164 - val_loss: 1.4067 - val_categorical_accuracy: 0.4872\n",
            "Epoch 3/20\n",
            "42/42 [==============================] - 66s 2s/step - loss: 1.2360 - categorical_accuracy: 0.6467 - val_loss: 1.2355 - val_categorical_accuracy: 0.6256\n",
            "Epoch 4/20\n",
            "42/42 [==============================] - 65s 2s/step - loss: 1.0945 - categorical_accuracy: 0.7279 - val_loss: 1.1204 - val_categorical_accuracy: 0.6911\n",
            "Epoch 5/20\n",
            "42/42 [==============================] - 65s 2s/step - loss: 0.9760 - categorical_accuracy: 0.7879 - val_loss: 1.0345 - val_categorical_accuracy: 0.7250\n",
            "Epoch 6/20\n",
            "42/42 [==============================] - 66s 2s/step - loss: 0.8788 - categorical_accuracy: 0.8331 - val_loss: 0.9647 - val_categorical_accuracy: 0.7478\n",
            "Epoch 7/20\n",
            "42/42 [==============================] - 65s 2s/step - loss: 0.7974 - categorical_accuracy: 0.8621 - val_loss: 0.8967 - val_categorical_accuracy: 0.7828\n",
            "Epoch 8/20\n",
            "42/42 [==============================] - 65s 2s/step - loss: 0.7322 - categorical_accuracy: 0.8793 - val_loss: 0.8513 - val_categorical_accuracy: 0.7939\n",
            "Epoch 9/20\n",
            "42/42 [==============================] - 65s 2s/step - loss: 0.6767 - categorical_accuracy: 0.8960 - val_loss: 0.7992 - val_categorical_accuracy: 0.8133\n",
            "Epoch 10/20\n",
            "42/42 [==============================] - 65s 2s/step - loss: 0.6262 - categorical_accuracy: 0.9086 - val_loss: 0.7645 - val_categorical_accuracy: 0.8178\n",
            "Epoch 11/20\n",
            "42/42 [==============================] - 65s 2s/step - loss: 0.5847 - categorical_accuracy: 0.9190 - val_loss: 0.7356 - val_categorical_accuracy: 0.8144\n",
            "Epoch 12/20\n",
            "42/42 [==============================] - 65s 2s/step - loss: 0.5420 - categorical_accuracy: 0.9317 - val_loss: 0.6918 - val_categorical_accuracy: 0.8361\n",
            "Epoch 13/20\n",
            "42/42 [==============================] - 65s 2s/step - loss: 0.5067 - categorical_accuracy: 0.9421 - val_loss: 0.6634 - val_categorical_accuracy: 0.8517\n",
            "Epoch 14/20\n",
            "42/42 [==============================] - 65s 2s/step - loss: 0.4803 - categorical_accuracy: 0.9417 - val_loss: 0.6408 - val_categorical_accuracy: 0.8489\n",
            "Epoch 15/20\n",
            "42/42 [==============================] - 65s 2s/step - loss: 0.4460 - categorical_accuracy: 0.9529 - val_loss: 0.6119 - val_categorical_accuracy: 0.8650\n",
            "Epoch 16/20\n",
            "42/42 [==============================] - 65s 2s/step - loss: 0.4203 - categorical_accuracy: 0.9557 - val_loss: 0.5933 - val_categorical_accuracy: 0.8683\n",
            "Epoch 17/20\n",
            "42/42 [==============================] - 65s 2s/step - loss: 0.3970 - categorical_accuracy: 0.9631 - val_loss: 0.5732 - val_categorical_accuracy: 0.8694\n",
            "Epoch 18/20\n",
            "42/42 [==============================] - 65s 2s/step - loss: 0.3768 - categorical_accuracy: 0.9657 - val_loss: 0.5533 - val_categorical_accuracy: 0.8822\n",
            "Epoch 19/20\n",
            "42/42 [==============================] - 65s 2s/step - loss: 0.3583 - categorical_accuracy: 0.9693 - val_loss: 0.5419 - val_categorical_accuracy: 0.8756\n",
            "Epoch 20/20\n",
            "42/42 [==============================] - 65s 2s/step - loss: 0.3409 - categorical_accuracy: 0.9695 - val_loss: 0.5232 - val_categorical_accuracy: 0.8844\n"
          ],
          "name": "stdout"
        }
      ]
    },
    {
      "cell_type": "markdown",
      "metadata": {
        "id": "XcGQcp_9cKjM"
      },
      "source": [
        "Evaluasi hasil pelatihan dengan grafik visualisasi proses training"
      ]
    },
    {
      "cell_type": "code",
      "metadata": {
        "id": "uWCl8K0Ib8cE",
        "colab": {
          "base_uri": "https://localhost:8080/",
          "height": 562
        },
        "outputId": "2ff0b741-3d27-4f81-be20-0f164f274ea1"
      },
      "source": [
        "# Retrieve a list of accuracy results on training and validation data\n",
        "# sets for each training epoch\n",
        "acc = history.history['categorical_accuracy']\n",
        "val_acc = history.history['val_categorical_accuracy']\n",
        "\n",
        "# Retrieve a list of list results on training and validation data\n",
        "# sets for each training epoch\n",
        "loss = history.history['loss']\n",
        "val_loss = history.history['val_loss']\n",
        "\n",
        "# Get number of epochs\n",
        "epochs = range(len(acc))\n",
        "\n",
        "# Plot training and validation accuracy per epoch\n",
        "plt.plot(epochs, acc, label = 'Training Accuracy')\n",
        "plt.plot(epochs, val_acc, label = 'Validation Accuracy')\n",
        "plt.legend(loc='lower right')\n",
        "plt.title('Training and validation accuracy')\n",
        "\n",
        "plt.figure()\n",
        "\n",
        "# Plot training and validation loss per epoch\n",
        "plt.plot(epochs, loss, label = 'Training Loss')\n",
        "plt.plot(epochs, val_loss, label = 'Validation Loss')\n",
        "plt.legend(loc='upper right')\n",
        "plt.title('Training and validation loss')"
      ],
      "execution_count": null,
      "outputs": [
        {
          "output_type": "execute_result",
          "data": {
            "text/plain": [
              "Text(0.5, 1.0, 'Training and validation loss')"
            ]
          },
          "metadata": {
            "tags": []
          },
          "execution_count": 10
        },
        {
          "output_type": "display_data",
          "data": {
            "image/png": "[encoded data removed]",
            "text/plain": [
              "<Figure size 432x288 with 1 Axes>"
            ]
          },
          "metadata": {
            "tags": [],
            "needs_background": "light"
          }
        },
        {
          "output_type": "display_data",
          "data": {
            "image/png": "[encoded data removed]",
            "text/plain": [
              "<Figure size 432x288 with 1 Axes>"
            ]
          },
          "metadata": {
            "tags": [],
            "needs_background": "light"
          }
        }
      ]
    },
    {
      "cell_type": "markdown",
      "metadata": {
        "id": "BP4Et9txb2eK"
      },
      "source": [
        "Evaluasi akurasi akhir model pada kumpulan dataset validasi"
      ]
    },
    {
      "cell_type": "code",
      "metadata": {
        "id": "FmpV05w8bi2P",
        "colab": {
          "base_uri": "https://localhost:8080/",
          "height": 50
        },
        "outputId": "3866115b-7a87-4812-9f73-fce98e23f4fd"
      },
      "source": [
        "validation_generator.reset()\n",
        "STEP_SIZE_VALID=validation_generator.n//validation_generator.batch_size\n",
        "model_fine.evaluate(validation_generator, steps=STEP_SIZE_VALID)"
      ],
      "execution_count": null,
      "outputs": [
        {
          "output_type": "stream",
          "text": [
            "18/18 [==============================] - 18s 1s/step - loss: 0.5232 - categorical_accuracy: 0.8844\n"
          ],
          "name": "stdout"
        },
        {
          "output_type": "execute_result",
          "data": {
            "text/plain": [
              "[0.5231653451919556, 0.8844444155693054]"
            ]
          },
          "metadata": {
            "tags": []
          },
          "execution_count": 11
        }
      ]
    },
    {
      "cell_type": "markdown",
      "metadata": {
        "id": "iE4vdNqRedCu"
      },
      "source": [
        "Definisikan plotting confusion matrix terlebih dahulu"
      ]
    },
    {
      "cell_type": "code",
      "metadata": {
        "id": "DeAg7D2Bdh3N"
      },
      "source": [
        "def plot_confusion_matrix(cm, classes,\n",
        "                          normalize=False,\n",
        "                          title='Confusion matrix',\n",
        "                          cmap=plt.cm.Blues):\n",
        "    \"\"\"\n",
        "    This function prints and plots the confusion matrix.\n",
        "    Normalization can be applied by setting `normalize=True`.\n",
        "    \"\"\"\n",
        "    if normalize:\n",
        "        cm = cm.astype('float') / cm.sum(axis=1)[:, np.newaxis]\n",
        "        print(\"Normalized confusion matrix\")\n",
        "    else:\n",
        "        print('Confusion matrix, without normalization')\n",
        "\n",
        "    print(cm)\n",
        "\n",
        "    plt.imshow(cm, interpolation='nearest', cmap=cmap)\n",
        "    plt.title(title)\n",
        "    plt.colorbar()\n",
        "    tick_marks = np.arange(len(classes))\n",
        "    plt.xticks(tick_marks, classes, rotation=45)\n",
        "    plt.yticks(tick_marks, classes)\n",
        "\n",
        "    fmt = '.2f' if normalize else 'd'\n",
        "    thresh = cm.max() / 2.\n",
        "    for i, j in itertools.product(range(cm.shape[0]), range(cm.shape[1])):\n",
        "        plt.text(j, i, format(cm[i, j], fmt),\n",
        "                 horizontalalignment=\"center\",\n",
        "                 color=\"white\" if cm[i, j] > thresh else \"black\")\n",
        "\n",
        "    plt.ylabel('True label')\n",
        "    plt.xlabel('Predicted label')\n",
        "    plt.tight_layout()"
      ],
      "execution_count": null,
      "outputs": []
    },
    {
      "cell_type": "markdown",
      "metadata": {
        "id": "YAtTFzLKej3_"
      },
      "source": [
        "Evaluasi klasifikasi dengan menggunakan confusion matrix"
      ]
    },
    {
      "cell_type": "code",
      "metadata": {
        "id": "Npc8dSLJdqg5",
        "colab": {
          "base_uri": "https://localhost:8080/",
          "height": 812
        },
        "outputId": "08d63dee-8277-4bb4-8673-0f3acfa38f3e"
      },
      "source": [
        "validation_generator.reset()\n",
        "Y_pred = model_fine.predict(validation_generator, steps=STEP_SIZE_VALID)\n",
        "y_pred = np.argmax(Y_pred, axis=1)\n",
        "target_names = !cat labels.txt\n",
        "\n",
        "cm = confusion_matrix(validation_generator.classes, y_pred)\n",
        "\n",
        "# Compute confusion matrix\n",
        "cnf_matrix = cm\n",
        "np.set_printoptions(precision=2)\n",
        "\n",
        "# Plot non-normalized confusion matrix\n",
        "plt.figure()\n",
        "plot_confusion_matrix(cnf_matrix, classes=target_names, title='Confusion matrix, without normalization')\n",
        "\n",
        "# Plot normalized confusion matrix\n",
        "plt.figure()\n",
        "plot_confusion_matrix(cnf_matrix, classes=target_names, normalize=True, title='Normalized confusion matrix')\n",
        "\n",
        "plt.show()"
      ],
      "execution_count": null,
      "outputs": [
        {
          "output_type": "stream",
          "text": [
            "Confusion matrix, without normalization\n",
            "[[277   3   3   0   1  16]\n",
            " [  6 233   9  19   8  25]\n",
            " [  0   4 276   9   4   7]\n",
            " [  4   6   3 260   0  27]\n",
            " [  4   8   2   1 281   4]\n",
            " [  9  11   2  10   3 265]]\n",
            "Normalized confusion matrix\n",
            "[[0.92 0.01 0.01 0.   0.   0.05]\n",
            " [0.02 0.78 0.03 0.06 0.03 0.08]\n",
            " [0.   0.01 0.92 0.03 0.01 0.02]\n",
            " [0.01 0.02 0.01 0.87 0.   0.09]\n",
            " [0.01 0.03 0.01 0.   0.94 0.01]\n",
            " [0.03 0.04 0.01 0.03 0.01 0.88]]\n"
          ],
          "name": "stdout"
        },
        {
          "output_type": "display_data",
          "data": {
            "image/png": "[encoded data removed]",
            "text/plain": [
              "<Figure size 432x288 with 2 Axes>"
            ]
          },
          "metadata": {
            "tags": [],
            "needs_background": "light"
          }
        },
        {
          "output_type": "display_data",
          "data": {
            "image/png": "[encoded data removed]",
            "text/plain": [
              "<Figure size 432x288 with 2 Axes>"
            ]
          },
          "metadata": {
            "tags": [],
            "needs_background": "light"
          }
        }
      ]
    },
    {
      "cell_type": "markdown",
      "metadata": {
        "id": "v2Cr2Th6epsR"
      },
      "source": [
        "Evaluasi klasifikasi dengan laporan klasifikasi (classification report)"
      ]
    },
    {
      "cell_type": "code",
      "metadata": {
        "id": "I4lHYM-HdXBY",
        "colab": {
          "base_uri": "https://localhost:8080/",
          "height": 252
        },
        "outputId": "83eec150-b618-4a09-fade-300c1d7d3755"
      },
      "source": [
        "print('Classification Report')\n",
        "target_names = !cat labels.txt\n",
        "print(classification_report(validation_generator.classes, y_pred, target_names=target_names))"
      ],
      "execution_count": null,
      "outputs": [
        {
          "output_type": "stream",
          "text": [
            "Classification Report\n",
            "              precision    recall  f1-score   support\n",
            "\n",
            "       100rb       0.92      0.92      0.92       300\n",
            "        10rb       0.88      0.78      0.82       300\n",
            "        20rb       0.94      0.92      0.93       300\n",
            "         2rb       0.87      0.87      0.87       300\n",
            "        50rb       0.95      0.94      0.94       300\n",
            "         5rb       0.77      0.88      0.82       300\n",
            "\n",
            "    accuracy                           0.88      1800\n",
            "   macro avg       0.89      0.88      0.88      1800\n",
            "weighted avg       0.89      0.88      0.88      1800\n",
            "\n"
          ],
          "name": "stdout"
        }
      ]
    },
    {
      "cell_type": "markdown",
      "metadata": {
        "id": "vMwHBsEye9hR"
      },
      "source": [
        "Simpan model dan konversikan kedalam format TensorFlow Lite"
      ]
    },
    {
      "cell_type": "code",
      "metadata": {
        "id": "XAhAVd_Me8nO",
        "colab": {
          "base_uri": "https://localhost:8080/",
          "height": 34
        },
        "outputId": "1ee0ad77-b22d-4e73-b524-4dc2cb6b561f"
      },
      "source": [
        "converter = tf.lite.TFLiteConverter.from_keras_model(model_fine)\n",
        "tflite_model = converter.convert()\n",
        "open (\"final_tl_vgg16_dataset73.tflite\" , \"wb\") .write(tflite_model)"
      ],
      "execution_count": null,
      "outputs": [
        {
          "output_type": "execute_result",
          "data": {
            "text/plain": [
              "59466896"
            ]
          },
          "metadata": {
            "tags": []
          },
          "execution_count": 15
        }
      ]
    }
  ]
}